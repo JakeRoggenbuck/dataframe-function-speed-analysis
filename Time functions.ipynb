{
 "cells": [
  {
   "cell_type": "code",
   "execution_count": 3,
   "id": "06698388-ccba-441f-8053-0da720df3a09",
   "metadata": {},
   "outputs": [],
   "source": [
    "from function import count_most_used_char\n",
    "import pandas as pd"
   ]
  },
  {
   "cell_type": "code",
   "execution_count": 25,
   "id": "ac3174fa-ab69-462a-873e-8eeac1d8a16a",
   "metadata": {},
   "outputs": [
    {
     "data": {
      "text/plain": [
       "2541"
      ]
     },
     "execution_count": 25,
     "metadata": {},
     "output_type": "execute_result"
    }
   ],
   "source": [
    "df = pd.read_csv(\"./alpha_beta.csv\")\n",
    "len(df)"
   ]
  },
  {
   "cell_type": "code",
   "execution_count": 119,
   "id": "fbfd9c9b-8b11-4360-8737-07f41b3c83c2",
   "metadata": {},
   "outputs": [],
   "source": [
    "import time\n",
    "from functools import wraps\n",
    "\n",
    "def time_function(times: int = 1):\n",
    "    def decorate(fn):\n",
    "        @wraps(fn)\n",
    "        def inner():\n",
    "            tic = time.perf_counter()\n",
    "            for _ in range(times):\n",
    "                fn()\n",
    "            toc = time.perf_counter()\n",
    "            \n",
    "            full = toc - tic\n",
    "            print(f\"Function took {full:0.4f} seconds\")\n",
    "            return toc - tic\n",
    "    \n",
    "        return inner\n",
    "    return decorate\n",
    "\n",
    "times_save = {}"
   ]
  },
  {
   "cell_type": "code",
   "execution_count": 120,
   "id": "81a355d2-4b91-4cea-b4d7-572338315359",
   "metadata": {},
   "outputs": [
    {
     "name": "stdout",
     "output_type": "stream",
     "text": [
      "Function took 0.1020 seconds\n"
     ]
    },
    {
     "data": {
      "text/plain": [
       "0.10198728699924686"
      ]
     },
     "execution_count": 120,
     "metadata": {},
     "output_type": "execute_result"
    }
   ],
   "source": [
    "@time_function(10)\n",
    "def hello():\n",
    "    time.sleep(0.01)\n",
    "    \n",
    "hello()"
   ]
  },
  {
   "cell_type": "code",
   "execution_count": 121,
   "id": "28d78069-5412-492a-b779-0919109fc039",
   "metadata": {},
   "outputs": [
    {
     "name": "stdout",
     "output_type": "stream",
     "text": [
      "Function took 4.8831 seconds\n"
     ]
    },
    {
     "data": {
      "text/plain": [
       "4.883088099999441"
      ]
     },
     "execution_count": 121,
     "metadata": {},
     "output_type": "execute_result"
    }
   ],
   "source": [
    "@time_function(10)\n",
    "def unoptimized():\n",
    "    count = []\n",
    "    for seq in df.Sequence:\n",
    "        c = count_most_used_char(seq)\n",
    "        count.append(c)\n",
    "            \n",
    "unoptimized_time = unoptimized()\n",
    "times_save[\"unoptimized_time\"] = unoptimized_time\n",
    "unoptimized_time"
   ]
  },
  {
   "cell_type": "code",
   "execution_count": 122,
   "id": "33e4540b-8260-48f4-a713-2996a892d339",
   "metadata": {},
   "outputs": [
    {
     "name": "stdout",
     "output_type": "stream",
     "text": [
      "Function took 4.6273 seconds\n"
     ]
    },
    {
     "data": {
      "text/plain": [
       "4.627305193999746"
      ]
     },
     "execution_count": 122,
     "metadata": {},
     "output_type": "execute_result"
    }
   ],
   "source": [
    "@time_function(10)\n",
    "def using_map():\n",
    "    count = list(map(count_most_used_char, df.Sequence))\n",
    "        \n",
    "using_map_time = using_map()\n",
    "times_save[\"using_map_time\"] = using_map_time\n",
    "using_map_time"
   ]
  },
  {
   "cell_type": "code",
   "execution_count": 123,
   "id": "7632a4bb-c6c7-456e-aef3-4aa4e6081dc7",
   "metadata": {},
   "outputs": [
    {
     "name": "stdout",
     "output_type": "stream",
     "text": [
      "Function took 4.6032 seconds\n"
     ]
    },
    {
     "data": {
      "text/plain": [
       "4.603226143000029"
      ]
     },
     "execution_count": 123,
     "metadata": {},
     "output_type": "execute_result"
    }
   ],
   "source": [
    "import multiprocessing.dummy\n",
    "\n",
    "@time_function(10)\n",
    "def using_proc_map():\n",
    "    p = multiprocessing.dummy.Pool(8)\n",
    "    count = list(p.map(count_most_used_char, df.Sequence))\n",
    "    \n",
    "using_proc_map_time = using_proc_map()\n",
    "times_save[\"using_proc_map_time\"] = using_proc_map_time\n",
    "using_proc_map_time"
   ]
  },
  {
   "cell_type": "code",
   "execution_count": 124,
   "id": "105370de-74b4-4045-8240-6b9d4ea1143d",
   "metadata": {},
   "outputs": [
    {
     "name": "stdout",
     "output_type": "stream",
     "text": [
      "Function took 3.4288 seconds\n"
     ]
    },
    {
     "data": {
      "text/plain": [
       "3.428800863000106"
      ]
     },
     "execution_count": 124,
     "metadata": {},
     "output_type": "execute_result"
    }
   ],
   "source": [
    "import threading\n",
    "\n",
    "def thread_target(start, end):\n",
    "    return list(map(count_most_used_char, df.Sequence.iloc[start:end]))\n",
    "    \n",
    "@time_function(10)\n",
    "def using_threads():\n",
    "    n = len(df.Sequence)\n",
    "    i = n // 4\n",
    "    \n",
    "    start = 0\n",
    "    end = i\n",
    "    \n",
    "    threads = []\n",
    "    \n",
    "    for thread in range(4):                \n",
    "        start += i\n",
    "        end += i\n",
    "        \n",
    "        x = threading.Thread(target=thread_target, args=(start, end,))\n",
    "        threads.append(x)\n",
    "        x.start()\n",
    "        \n",
    "    for thread in threads:\n",
    "        thread.join()\n",
    "\n",
    "        \n",
    "    return i\n",
    "\n",
    "using_threads_time = using_threads()\n",
    "times_save[\"using_threads_time\"] = using_threads_time\n",
    "using_threads_time"
   ]
  },
  {
   "cell_type": "code",
   "execution_count": 205,
   "id": "e57c3ed8-4bcf-4704-9328-037927f40899",
   "metadata": {},
   "outputs": [
    {
     "data": {
      "image/png": "[encoded data removed]",
      "text/plain": [
       "<Figure size 432x288 with 1 Axes>"
      ]
     },
     "metadata": {
      "needs_background": "light"
     },
     "output_type": "display_data"
    }
   ],
   "source": [
    "times_df = pd.DataFrame({\"functions\": times_save.keys(), \"times\": [round(x, 3) for x in times_save.values()]})\n",
    "import matplotlib.pyplot as plt\n",
    "import seaborn as sns\n",
    "\n",
    "blues = sns.color_palette(\"Blues\", as_cmap=True)\n",
    "\n",
    "def add_labels(x, y):\n",
    "    for i in range(len(x)):\n",
    "        plt.text(i, y[i], y[i], ha=\"center\", va=\"bottom\")\n",
    "\n",
    "        \n",
    "times_df.plot.bar(x=\"functions\", y=\"times\", rot=70, title=\"Speed of functions in seconds\");\n",
    "add_labels(list(times_df[\"functions\"]), list(times_df[\"times\"]))\n",
    "plt.ylim(0, 6)\n",
    "plt.show();"
   ]
  },
  {
   "cell_type": "code",
   "execution_count": null,
   "id": "9ed34fcf-575e-496c-a764-615767cd9898",
   "metadata": {},
   "outputs": [],
   "source": []
  }
 ],
 "metadata": {
  "kernelspec": {
   "display_name": "Python 3 (ipykernel)",
   "language": "python",
   "name": "python3"
  },
  "language_info": {
   "codemirror_mode": {
    "name": "ipython",
    "version": 3
   },
   "file_extension": ".py",
   "mimetype": "text/x-python",
   "name": "python",
   "nbconvert_exporter": "python",
   "pygments_lexer": "ipython3",
   "version": "3.10.6"
  }
 },
 "nbformat": 4,
 "nbformat_minor": 5
}
